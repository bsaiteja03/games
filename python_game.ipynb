{
  "nbformat": 4,
  "nbformat_minor": 0,
  "metadata": {
    "colab": {
      "name": "python game.ipynb",
      "provenance": [],
      "authorship_tag": "ABX9TyOBhpkX9Vimw22z3Khcv/ph",
      "include_colab_link": true
    },
    "kernelspec": {
      "name": "python3",
      "display_name": "Python 3"
    }
  },
  "cells": [
    {
      "cell_type": "markdown",
      "metadata": {
        "id": "view-in-github",
        "colab_type": "text"
      },
      "source": [
        "<a href=\"https://colab.research.google.com/github/bsaiteja03/games/blob/main/python_game.ipynb\" target=\"_parent\"><img src=\"https://colab.research.google.com/assets/colab-badge.svg\" alt=\"Open In Colab\"/></a>"
      ]
    },
    {
      "cell_type": "code",
      "metadata": {
        "colab": {
          "base_uri": "https://localhost:8080/"
        },
        "id": "h901yFfq7vzi",
        "outputId": "d0de7d05-7570-4386-b518-35beecb28103"
      },
      "source": [
        "pip install freegames"
      ],
      "execution_count": 5,
      "outputs": [
        {
          "output_type": "stream",
          "text": [
            "Collecting freegames\n",
            "\u001b[?25l  Downloading https://files.pythonhosted.org/packages/0e/30/77e6f7ff22033bf341afcd73469ea96e7a1b2cda21a4b2105c12eeb9faa9/freegames-2.3.2-py2.py3-none-any.whl (108kB)\n",
            "\u001b[K     |████████████████████████████████| 112kB 8.6MB/s \n",
            "\u001b[?25hInstalling collected packages: freegames\n",
            "Successfully installed freegames-2.3.2\n"
          ],
          "name": "stdout"
        }
      ]
    },
    {
      "cell_type": "code",
      "metadata": {
        "id": "R8R1crnk27p5"
      },
      "source": [
        "from random import choice,random\n",
        "from turtle import *\n",
        "from freegames import vector"
      ],
      "execution_count": 6,
      "outputs": []
    },
    {
      "cell_type": "code",
      "metadata": {
        "id": "qSzEMfDi3gyp"
      },
      "source": [
        "def value():\n",
        "  return (3+random()*2)*choice([1,-1])"
      ],
      "execution_count": 7,
      "outputs": []
    },
    {
      "cell_type": "code",
      "metadata": {
        "id": "5vitLDYR3vdi"
      },
      "source": [
        "ball=vector(0,0)\n",
        "aim=vector(value(),value())\n",
        "state = {1:0,2:0}"
      ],
      "execution_count": 8,
      "outputs": []
    },
    {
      "cell_type": "code",
      "metadata": {
        "id": "yp6Qk1pT4CWx"
      },
      "source": [
        "def move(player,change):\n",
        "  state[player]+= change"
      ],
      "execution_count": 9,
      "outputs": []
    },
    {
      "cell_type": "code",
      "metadata": {
        "id": "duh3Ci4v4PxA"
      },
      "source": [
        "def rectangle(x,y,width,height):\n",
        "  up()\n",
        "  goto(x,y)\n",
        "  down()\n",
        "  begin_fill()\n",
        "  for count in range(2):\n",
        "    forward(width)\n",
        "    left(90)\n",
        "    forward(height)\n",
        "    left(90)\n",
        "  end_fill"
      ],
      "execution_count": 10,
      "outputs": []
    },
    {
      "cell_type": "code",
      "metadata": {
        "id": "mgS0Pcd343dx"
      },
      "source": [
        "def draw():\n",
        "  clear()\n",
        "  rectangle(-200,state[1],10,50)\n",
        "  rectangle(190,state[2],10,50)\n",
        "  ball.move(aim)\n",
        "  x=ball.x\n",
        "  y=ball.y\n",
        "  up()\n",
        "  goto(x,y)\n",
        "  dot(10)\n",
        "  update()\n",
        "\n",
        "  if y < -200 or y > 200:\n",
        "    aim.y=-aim.y\n",
        "  \n",
        "  if x<-185:\n",
        "    low=state[1]\n",
        "    high=state[1]+50\n",
        "\n",
        "    if low <= y <= high:\n",
        "      aim.x=-aim.x\n",
        "    else:\n",
        "      return \n",
        "    if x> 185:\n",
        "      low = state[2]\n",
        "      high = state[2]+50\n",
        "\n",
        "      if low <= y <= high:\n",
        "        aim.x = -aim.x\n",
        "      else:\n",
        "        return \n",
        "\n",
        "      ontimer(draw,50)\n",
        "  setup(420,420,370,0)\n",
        "  highturtle()\n",
        "  tracer(False)\n",
        "  listen()\n",
        "  onkey(lambda:move(1,20),'w')\n",
        "  onkey(lambda:move(1,-20),'s')\n",
        "  onkey(lambda:move(1,20),'i')\n",
        "  onkey(lambda:move(1,-20),'k')\n",
        "  draw()\n",
        "  done()"
      ],
      "execution_count": 12,
      "outputs": []
    }
  ]
}